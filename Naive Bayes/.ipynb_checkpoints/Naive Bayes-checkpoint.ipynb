{
 "cells": [
  {
   "cell_type": "code",
   "execution_count": 1,
   "metadata": {
    "collapsed": true
   },
   "outputs": [],
   "source": [
    "import pandas as pd\n",
    "import numpy as np\n",
    "import matplotlib.pyplot as plt"
   ]
  },
  {
   "cell_type": "code",
   "execution_count": 2,
   "metadata": {
    "collapsed": false
   },
   "outputs": [],
   "source": [
    "data = pd.read_csv('spambase-train.csv')\n",
    "testdata = pd.read_csv('spambase-test.csv')"
   ]
  },
  {
   "cell_type": "code",
   "execution_count": 3,
   "metadata": {
    "collapsed": true
   },
   "outputs": [],
   "source": [
    "Y = data[data.columns[-1]].as_matrix()"
   ]
  },
  {
   "cell_type": "code",
   "execution_count": 4,
   "metadata": {
    "collapsed": false
   },
   "outputs": [],
   "source": [
    "testY = testdata[testdata.columns[-1]].as_matrix()"
   ]
  },
  {
   "cell_type": "code",
   "execution_count": 5,
   "metadata": {
    "collapsed": false
   },
   "outputs": [],
   "source": [
    "Xframe = data.drop(data.columns[-1], axis=1)\n",
    "X = Xframe.as_matrix()"
   ]
  },
  {
   "cell_type": "code",
   "execution_count": 6,
   "metadata": {
    "collapsed": false
   },
   "outputs": [],
   "source": [
    "testXframe = testdata.drop(data.columns[-1],axis=1)\n",
    "testX = testXframe.as_matrix()"
   ]
  },
  {
   "cell_type": "code",
   "execution_count": 7,
   "metadata": {
    "collapsed": false
   },
   "outputs": [],
   "source": [
    "# For problem 2\n",
    "#X = np.array([1,1,1,0,0,0,0,0,0,0,0,0,0,0,0,0,0,0])\n",
    "#Y = np.array([1,1,0,0,0,0,0,0,0,0,0,0,0,0,0,0,0,0])\n",
    "#dataArray = np.vstack((X,Y)).T\n",
    "#dataArray.shape"
   ]
  },
  {
   "cell_type": "code",
   "execution_count": 8,
   "metadata": {
    "collapsed": false
   },
   "outputs": [],
   "source": [
    "dataArray = data.as_matrix()"
   ]
  },
  {
   "cell_type": "code",
   "execution_count": 9,
   "metadata": {
    "collapsed": false
   },
   "outputs": [],
   "source": [
    "beta = 2"
   ]
  },
  {
   "cell_type": "code",
   "execution_count": 10,
   "metadata": {
    "collapsed": false
   },
   "outputs": [],
   "source": [
    "#Calculate Conditional Probabilities\n",
    "pY = {}\n",
    "pX = {}\n",
    "Yu = np.unique(dataArray[:,-1])\n",
    "for y in Yu:\n",
    "    ySubset = (dataArray[dataArray[:,-1]==y])[:,:-1]\n",
    "    ylength = float(len(Y[Y==y]))\n",
    "    yother = float(len(Y[Y!=y]))\n",
    "    pY[y] = (beta + ylength - 1)/((beta + ylength -1)+(beta + yother -1))\n",
    "    xindex = 0\n",
    "    for x in ySubset.T:\n",
    "        xindex+=1\n",
    "        xcount = 0\n",
    "        Xu = np.unique(x)\n",
    "        for xValue in Xu:\n",
    "            xSubset = float(len(ySubset[ySubset[:,xindex-1]==xValue]))\n",
    "            xother = float(len(ySubset[ySubset[:,xindex-1]!=xValue]))\n",
    "            pX[xindex,xValue,y] = (beta + xSubset - 1)/((beta + xSubset -1)+(beta + xother -1))"
   ]
  },
  {
   "cell_type": "code",
   "execution_count": 11,
   "metadata": {
    "collapsed": false
   },
   "outputs": [],
   "source": [
    "# For Problem 2\n",
    "#Yvalue = 1\n",
    "#probs = {}\n",
    "#for Yvalue in Yu:\n",
    "#    probs[Yvalue] = 1\n",
    "#    probs[Yvalue] = probs[Yvalue] * pX[1,X[0],Yvalue]\n",
    "#    probs[Yvalue] = probs[Yvalue] * pY[Yvalue]\n",
    "#probs"
   ]
  },
  {
   "cell_type": "code",
   "execution_count": null,
   "metadata": {
    "collapsed": false
   },
   "outputs": [],
   "source": []
  },
  {
   "cell_type": "code",
   "execution_count": 12,
   "metadata": {
    "collapsed": false
   },
   "outputs": [],
   "source": [
    "def getPredicted(xrow):\n",
    "    probs = {}\n",
    "    for Yvalue in Yu:\n",
    "        probs[Yvalue] = 1\n",
    "        xindex = 0\n",
    "        for xn in xrow:\n",
    "            xindex+=1\n",
    "            probs[Yvalue] = probs[Yvalue] * pX[xindex,xn,Yvalue]\n",
    "        probs[Yvalue] = probs[Yvalue] * pY[Yvalue]\n",
    "    return probs"
   ]
  },
  {
   "cell_type": "code",
   "execution_count": 13,
   "metadata": {
    "collapsed": false
   },
   "outputs": [],
   "source": [
    "def getAccuracy(anX, aY):\n",
    "    predictions = []\n",
    "    for x in anX:\n",
    "        proba = getPredicted(x)\n",
    "        predictions.append(np.argmax(proba.values()))\n",
    "    accuracy = 1- sum(abs(predictions-aY))/float(len(aY))   \n",
    "    return accuracy"
   ]
  },
  {
   "cell_type": "code",
   "execution_count": 14,
   "metadata": {
    "collapsed": false
   },
   "outputs": [
    {
     "name": "stdout",
     "output_type": "stream",
     "text": [
      "('Training Accuracy: ', 0.88364343237989451)\n",
      "('Test Accuracy: ', 0.89100000000000001)\n"
     ]
    }
   ],
   "source": [
    "print('Training Accuracy: ', getAccuracy(X,Y))\n",
    "print('Test Accuracy: ',getAccuracy(testX,testY))"
   ]
  },
  {
   "cell_type": "code",
   "execution_count": null,
   "metadata": {
    "collapsed": false
   },
   "outputs": [],
   "source": []
  },
  {
   "cell_type": "code",
   "execution_count": null,
   "metadata": {
    "collapsed": false
   },
   "outputs": [],
   "source": [
    "#Calculate Log Odds\n",
    "baseOdds = np.log(pY[1]/pY[0]) + logOdds\n",
    "xindex = 1\n",
    "logOdds = 0\n",
    "wOdds = []\n",
    "for x in X.T:\n",
    "    logOdds+= np.log(pX[xindex,0,1]/pX[xindex,0,0])\n",
    "    wOdds.append(np.log(pX[xindex,1,1]/pX[xindex,1,0]) - np.log(pX[xindex,0,1])/pX[xindex,0,1])\n",
    "    xindex+=1"
   ]
  },
  {
   "cell_type": "code",
   "execution_count": null,
   "metadata": {
    "collapsed": false
   },
   "outputs": [],
   "source": []
  },
  {
   "cell_type": "code",
   "execution_count": null,
   "metadata": {
    "collapsed": false
   },
   "outputs": [],
   "source": []
  },
  {
   "cell_type": "code",
   "execution_count": null,
   "metadata": {
    "collapsed": false
   },
   "outputs": [],
   "source": []
  },
  {
   "cell_type": "code",
   "execution_count": null,
   "metadata": {
    "collapsed": false
   },
   "outputs": [],
   "source": [
    "print 'Base Log Odds:',baseOdds\n",
    "wC = 1\n",
    "for w in wOdds:\n",
    "    print 'Feature',wC,'Log Odds:',w\n",
    "    wC+=1"
   ]
  },
  {
   "cell_type": "code",
   "execution_count": null,
   "metadata": {
    "collapsed": false
   },
   "outputs": [],
   "source": [
    "for x in testX:\n",
    "    print getPredicted(x)[1]"
   ]
  },
  {
   "cell_type": "code",
   "execution_count": null,
   "metadata": {
    "collapsed": true
   },
   "outputs": [],
   "source": []
  }
 ],
 "metadata": {
  "kernelspec": {
   "display_name": "Python 2",
   "language": "python",
   "name": "python2"
  },
  "language_info": {
   "codemirror_mode": {
    "name": "ipython",
    "version": 2
   },
   "file_extension": ".py",
   "mimetype": "text/x-python",
   "name": "python",
   "nbconvert_exporter": "python",
   "pygments_lexer": "ipython2",
   "version": "2.7.11"
  }
 },
 "nbformat": 4,
 "nbformat_minor": 0
}
