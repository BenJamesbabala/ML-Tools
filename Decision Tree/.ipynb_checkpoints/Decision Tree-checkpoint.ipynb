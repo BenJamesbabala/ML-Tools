{
 "cells": [
  {
   "cell_type": "code",
   "execution_count": 1597,
   "metadata": {
    "collapsed": true
   },
   "outputs": [],
   "source": [
    "import sys\n",
    "arguments = sys.argv\n",
    "data = pd.read_csv(str(arguments[2])\n",
    "testdata = pd.read_csv(str(arguments[3])\n",
    "modelFile = str(arguments[4])"
   ]
  },
  {
   "cell_type": "code",
   "execution_count": 93,
   "metadata": {
    "collapsed": false
   },
   "outputs": [],
   "source": [
    "import pandas as pd\n",
    "import numpy as np\n",
    "from scipy.stats import chisquare\n",
    "data = pd.read_csv('training_set.csv')\n",
    "testdata = pd.read_csv('test_set.csv')"
   ]
  },
  {
   "cell_type": "code",
   "execution_count": 132,
   "metadata": {
    "collapsed": false
   },
   "outputs": [],
   "source": [
    "def uniqueClasses(myData):\n",
    "    results={}\n",
    "    for a in myData[myData.columns[-1]]:\n",
    "        if a not in results: \n",
    "            results[a] = 0\n",
    "        results[a]+=1\n",
    "    return results"
   ]
  },
  {
   "cell_type": "code",
   "execution_count": null,
   "metadata": {
    "collapsed": false
   },
   "outputs": [],
   "source": []
  },
  {
   "cell_type": "code",
   "execution_count": 133,
   "metadata": {
    "collapsed": true
   },
   "outputs": [],
   "source": [
    "def entropy(rows):\n",
    "    from math import log\n",
    "    log2=lambda x:log(x)/log(2)  \n",
    "    results=uniqueClasses(rows)\n",
    "    ent=0.0\n",
    "    for r in results.keys():\n",
    "        p=float(results[r])/len(rows) \n",
    "        ent=ent-p*log2(p)\n",
    "    return ent"
   ]
  },
  {
   "cell_type": "code",
   "execution_count": 134,
   "metadata": {
    "collapsed": false
   },
   "outputs": [
    {
     "data": {
      "text/plain": [
       "1.0"
      ]
     },
     "execution_count": 134,
     "metadata": {},
     "output_type": "execute_result"
    }
   ],
   "source": [
    "entropy(data)"
   ]
  },
  {
   "cell_type": "code",
   "execution_count": 135,
   "metadata": {
    "collapsed": false
   },
   "outputs": [],
   "source": [
    "def getTopIG(someData):\n",
    "    IG = {}\n",
    "    for column in someData.ix[:,:-1]:\n",
    "        ENT = (len(someData[someData[column]==1])/len(someData))*entropy(someData[someData[column]==1]) + (len(someData[someData[column]==0])/len(someData))*entropy(someData[someData[column]==0])\n",
    "        IG[column] = entropy(someData) - ENT\n",
    "    return IG"
   ]
  },
  {
   "cell_type": "code",
   "execution_count": 136,
   "metadata": {
    "collapsed": false
   },
   "outputs": [],
   "source": [
    "class TreeNode:\n",
    "    def __init__(self,myData,parents,decision, parameter, IG):\n",
    "        self.myData = myData\n",
    "        self.parents = parents\n",
    "        self.parameter = parameter\n",
    "        self.decision = decision\n",
    "        self.output = []\n",
    "        self.index = []\n",
    "        self.IG = IG\n",
    "        \n",
    "def iterateTree(node):\n",
    "    gainList = getTopIG(node.myData)\n",
    "    sortedIG = sorted(gainList, key=gainList.get)\n",
    "    topParameter = sortedIG[-1]\n",
    "    childData0 = node.myData[node.myData[topParameter]==0]\n",
    "    childData1 = node.myData[node.myData[topParameter]==1]\n",
    "    child0 = TreeNode(childData0,node.parents+1, 0, topParameter, gainList[topParameter])\n",
    "    child1 = TreeNode(childData1,node.parents+1, 1, topParameter, gainList[topParameter])\n",
    "    return child0,child1"
   ]
  },
  {
   "cell_type": "code",
   "execution_count": 137,
   "metadata": {
    "collapsed": true
   },
   "outputs": [],
   "source": [
    "def getChiSquare(child0, child1):\n",
    "    classes0 = uniqueClasses(child0.myData)\n",
    "    classes1 = uniqueClasses(child1.myData)\n",
    "    if 0 not in classes0.keys():\n",
    "        classes0[0] = 0\n",
    "    if 1 not in classes0.keys():\n",
    "        classes0[1] = 0\n",
    "    if 0 not in classes1.keys():\n",
    "        classes1[0] = 0\n",
    "    if 1 not in classes1.keys():\n",
    "        classes1[1] = 0\n",
    "    child0Compare = [classes0[0],classes0[1]]\n",
    "    child1Compare = [classes1[0],classes1[1]]\n",
    "    [chi,p] = chisquare(child0Compare,child1Compare)\n",
    "    if np.isnan(p): p = 0\n",
    "    #if p > .01: print(p, ' ', child0.parameter,' ', child1.parameter)\n",
    "    return p "
   ]
  },
  {
   "cell_type": "code",
   "execution_count": 138,
   "metadata": {
    "collapsed": false,
    "scrolled": true
   },
   "outputs": [],
   "source": [
    "nodes = []\n",
    "que = []\n",
    "index = 0\n",
    "nodes.append(TreeNode(data,1,0, \"Root\",1))\n",
    "endCreate = False\n",
    "while endCreate == False:\n",
    "    child0,child1 = iterateTree(nodes[-1])\n",
    "    p = getChiSquare(child0,child1)\n",
    "    if len(uniqueClasses(nodes[-1].myData)) == 2 and nodes[-1].IG > 0 and p < .01:\n",
    "        index = index + 1\n",
    "        child0.index = index\n",
    "        index = index + 1\n",
    "        child1.index = index\n",
    "        \n",
    "        if len(uniqueClasses(child0.myData)) == 2 and child0.IG > 0:\n",
    "            nodes.append(child0)\n",
    "            que.append(child1)\n",
    "        elif len(uniqueClasses(child1.myData)) ==2 and child1.IG > 0:\n",
    "            child0.output = getTopClass(child0.myData)\n",
    "            nodes.append(child0)\n",
    "            nodes.append(child1)\n",
    "        else:\n",
    "            child0.output = getTopClass(child0.myData)\n",
    "            nodes.append(child0)\n",
    "            child1.output = getTopClass(child1.myData)\n",
    "            nodes.append(child1)\n",
    "            if len(que) == 0:\n",
    "                endCreate = True\n",
    "            else:\n",
    "                nodes.append(que[-1])\n",
    "                que.pop()\n",
    "    else:\n",
    "        nodes[-1].output = getTopClass(nodes[-1].myData)\n",
    "        if len(que) == 0:\n",
    "            endCreate = True\n",
    "        else:\n",
    "            nodes.append(que[-1])\n",
    "            que.pop()\n",
    "\n",
    "    #p = getChiSquare(child0,child1)\n",
    "    \n",
    "    #if p > -1:\n",
    "\n",
    "        \n",
    "    #else:\n",
    "    #    nodes.append(que[-1])\n",
    "    #    que.pop()"
   ]
  },
  {
   "cell_type": "code",
   "execution_count": 139,
   "metadata": {
    "collapsed": false
   },
   "outputs": [
    {
     "data": {
      "text/plain": [
       "{'XB': 0.0,\n",
       " 'XC': 0.0,\n",
       " 'XD': 0.0,\n",
       " 'XE': 0.0,\n",
       " 'XF': 0.0,\n",
       " 'XG': 0.0,\n",
       " 'XH': 0.0,\n",
       " 'XI': 0.0,\n",
       " 'XJ': 0.0,\n",
       " 'XK': 0.0,\n",
       " 'XL': 0.0,\n",
       " 'XM': 0.0,\n",
       " 'XN': 0.0,\n",
       " 'XO': 0.0,\n",
       " 'XP': 0.0,\n",
       " 'XQ': 0.0,\n",
       " 'XR': 0.0,\n",
       " 'XS': 0.0,\n",
       " 'XT': 0.0,\n",
       " 'XU': 0.0}"
      ]
     },
     "execution_count": 139,
     "metadata": {},
     "output_type": "execute_result"
    }
   ],
   "source": [
    "getTopIG(nodes[16].myData)"
   ]
  },
  {
   "cell_type": "code",
   "execution_count": 140,
   "metadata": {
    "collapsed": false
   },
   "outputs": [],
   "source": [
    "def getTopClass(dataSet):\n",
    "    compare = uniqueClasses(dataSet)\n",
    "    topClass = sorted(compare, key=compare.get)\n",
    "    return topClass[-1:]"
   ]
  },
  {
   "cell_type": "code",
   "execution_count": 141,
   "metadata": {
    "collapsed": false
   },
   "outputs": [],
   "source": [
    "with open(\"test.txt\", \"w\") as modelSave:\n",
    "    for node in nodes:\n",
    "        print('| '*(node.parents-2),node.parameter, ' = ', node.decision, ' : ', node.output, ', ', node.index, file=modelSave)"
   ]
  },
  {
   "cell_type": "code",
   "execution_count": 142,
   "metadata": {
    "collapsed": false,
    "scrolled": false
   },
   "outputs": [
    {
     "name": "stdout",
     "output_type": "stream",
     "text": [
      " XO  =  0  :  1\n",
      "|  XM  =  0  :  3\n",
      "| |  XF  =  0  :  5\n",
      "| | |  XB  =  0  :  7\n",
      "| | | |  XG  =  0  :  0 9\n",
      "| | | |  XG  =  1  :  10\n",
      "| | | | |  XD  =  0  :  11\n",
      "| | | | | |  XS  =  0  :  0 13\n",
      "| | | | | |  XS  =  1  :  14\n",
      "| | | | | | |  XC  =  0  :  1 15\n",
      "| | | | | | |  XC  =  1  :  16\n",
      "| | | | | | | |  XH  =  0  :  0 17\n",
      "| | | | | | | |  XH  =  1  :  1 18\n",
      "| | | | |  XD  =  1  :  0 12\n",
      "| | |  XB  =  1  :  8\n",
      "| | | |  XD  =  0  :  0 19\n",
      "| | | |  XD  =  1  :  20\n",
      "| | | | |  XI  =  0  :  0 21\n",
      "| | | | |  XI  =  1  :  22\n",
      "| | | | | |  XG  =  0  :  1 23\n",
      "| | | | | |  XG  =  1  :  0 24\n",
      "| |  XF  =  1  :  0 6\n",
      "|  XM  =  1  :  4\n",
      "| |  XB  =  0  :  25\n",
      "| | |  XD  =  0  :  27\n",
      "| | | |  XG  =  0  :  29\n",
      "| | | | |  XF  =  0  :  0 31\n",
      "| | | | |  XF  =  1  :  32\n",
      "| | | | | |  XJ  =  0  :  33\n",
      "| | | | | | |  XN  =  0  :  1 35\n",
      "| | | | | | |  XN  =  1  :  36\n",
      "| | | | | | | |  XU  =  0  :  37\n",
      "| | | | | | | | |  XL  =  0  :  0 39\n",
      "| | | | | | | | |  XL  =  1  :  1 40\n",
      "| | | | | | | |  XU  =  1  :  0 38\n",
      "| | | | | |  XJ  =  1  :  34\n",
      "| | | | | | |  XC  =  0  :  41\n",
      "| | | | | | | |  XT  =  0  :  43\n",
      "| | | | | | | | |  XL  =  0  :  1 45\n",
      "| | | | | | | | |  XL  =  1  :  0 46\n",
      "| | | | | | | |  XT  =  1  :  1 44\n",
      "| | | | | | |  XC  =  1  :  1 42\n",
      "| | | |  XG  =  1  :  30\n",
      "| | | | |  XU  =  0  :  1 47\n",
      "| | | | |  XU  =  1  :  48\n",
      "| | | | | |  XI  =  0  :  0 49\n",
      "| | | | | |  XI  =  1  :  1 50\n",
      "| | |  XD  =  1  :  28\n",
      "| | | |  XC  =  0  :  51\n",
      "| | | | |  XF  =  0  :  53\n",
      "| | | | | |  XG  =  0  :  0 55\n",
      "| | | | | |  XG  =  1  :  1 56\n",
      "| | | | |  XF  =  1  :  1 54\n",
      "| | | |  XC  =  1  :  0 52\n",
      "| |  XB  =  1  :  26\n",
      "| | |  XI  =  0  :  0 57\n",
      "| | |  XI  =  1  :  58\n",
      "| | | |  XC  =  0  :  59\n",
      "| | | | |  XK  =  0  :  61\n",
      "| | | | | |  XP  =  0  :  1 63\n",
      "| | | | | |  XP  =  1  :  64\n",
      "| | | | | | |  XS  =  0  :  1 65\n",
      "| | | | | | |  XS  =  1  :  0 66\n",
      "| | | | |  XK  =  1  :  0 62\n",
      "| | | |  XC  =  1  :  0 60\n",
      " XO  =  1  :  2\n",
      "|  XI  =  0  :  67\n",
      "| |  XM  =  0  :  69\n",
      "| | |  XQ  =  0  :  71\n",
      "| | | |  XF  =  0  :  73\n",
      "| | | | |  XH  =  0  :  0 75\n",
      "| | | | |  XH  =  1  :  1 76\n",
      "| | | |  XF  =  1  :  0 74\n",
      "| | |  XQ  =  1  :  72\n",
      "| | | |  XJ  =  0  :  77\n",
      "| | | | |  XN  =  0  :  1 79\n",
      "| | | | |  XN  =  1  :  0 80\n",
      "| | | |  XJ  =  1  :  78\n",
      "| | | | |  XL  =  0  :  81\n",
      "| | | | | |  XH  =  0  :  0 83\n",
      "| | | | | |  XH  =  1  :  1 84\n",
      "| | | | |  XL  =  1  :  1 82\n",
      "| |  XM  =  1  :  70\n",
      "| | |  XQ  =  0  :  85\n",
      "| | | |  XF  =  0  :  87\n",
      "| | | | |  XL  =  0  :  89\n",
      "| | | | | |  XC  =  0  :  1 91\n",
      "| | | | | |  XC  =  1  :  1 92\n",
      "| | | | |  XL  =  1  :  90\n",
      "| | | | | |  XC  =  0  :  0 93\n",
      "| | | | | |  XC  =  1  :  1 94\n",
      "| | | |  XF  =  1  :  0 88\n",
      "| | |  XQ  =  1  :  0 86\n",
      "|  XI  =  1  :  68\n",
      "| |  XT  =  0  :  95\n",
      "| | |  XH  =  0  :  97\n",
      "| | | |  XP  =  0  :  99\n",
      "| | | | |  XF  =  0  :  0 101\n",
      "| | | | |  XF  =  1  :  102\n",
      "| | | | | |  XR  =  0  :  103\n",
      "| | | | | | |  XL  =  0  :  105\n",
      "| | | | | | | |  XU  =  0  :  0 107\n",
      "| | | | | | | |  XU  =  1  :  1 108\n",
      "| | | | | | |  XL  =  1  :  1 106\n",
      "| | | | | |  XR  =  1  :  104\n",
      "| | | | | | |  XQ  =  0  :  1 109\n",
      "| | | | | | |  XQ  =  1  :  0 110\n",
      "| | | |  XP  =  1  :  100\n",
      "| | | | |  XS  =  0  :  1 111\n",
      "| | | | |  XS  =  1  :  1 112\n",
      "| | |  XH  =  1  :  98\n",
      "| | | |  XJ  =  0  :  113\n",
      "| | | | |  XC  =  0  :  115\n",
      "| | | | | |  XN  =  0  :  1 117\n",
      "| | | | | |  XN  =  1  :  118\n",
      "| | | | | | |  XG  =  0  :  119\n",
      "| | | | | | | |  XF  =  0  :  1 121\n",
      "| | | | | | | |  XF  =  1  :  0 122\n",
      "| | | | | | |  XG  =  1  :  0 120\n",
      "| | | | |  XC  =  1  :  116\n",
      "| | | | | |  XM  =  0  :  0 123\n",
      "| | | | | |  XM  =  1  :  124\n",
      "| | | | | | |  XS  =  0  :  125\n",
      "| | | | | | | |  XR  =  0  :  1 127\n",
      "| | | | | | | |  XR  =  1  :  0 128\n",
      "| | | | | | |  XS  =  1  :  1 126\n",
      "| | | |  XJ  =  1  :  1 114\n",
      "| |  XT  =  1  :  96\n",
      "| | |  XS  =  0  :  129\n",
      "| | | |  XQ  =  0  :  131\n",
      "| | | | |  XK  =  0  :  133\n",
      "| | | | | |  XC  =  0  :  135\n",
      "| | | | | | |  XR  =  0  :  137\n",
      "| | | | | | | |  XH  =  0  :  139\n",
      "| | | | | | | | |  XE  =  0  :  0 141\n",
      "| | | | | | | | |  XE  =  1  :  1 142\n",
      "| | | | | | | |  XH  =  1  :  1 140\n",
      "| | | | | | |  XR  =  1  :  138\n",
      "| | | | | | | |  XG  =  0  :  143\n",
      "| | | | | | | | |  XL  =  0  :  0 145\n",
      "| | | | | | | | |  XL  =  1  :  1 146\n",
      "| | | | | | | |  XG  =  1  :  0 144\n",
      "| | | | | |  XC  =  1  :  1 136\n",
      "| | | | |  XK  =  1  :  134\n",
      "| | | | | |  XD  =  0  :  147\n",
      "| | | | | | |  XF  =  0  :  0 149\n",
      "| | | | | | |  XF  =  1  :  1 150\n",
      "| | | | | |  XD  =  1  :  0 148\n",
      "| | | |  XQ  =  1  :  132\n",
      "| | | | |  XM  =  0  :  151\n",
      "| | | | | |  XN  =  0  :  153\n",
      "| | | | | | |  XU  =  0  :  1 155\n",
      "| | | | | | |  XU  =  1  :  0 156\n",
      "| | | | | |  XN  =  1  :  1 154\n",
      "| | | | |  XM  =  1  :  0 152\n",
      "| | |  XS  =  1  :  130\n",
      "| | | |  XL  =  0  :  157\n",
      "| | | | |  XD  =  0  :  1 159\n",
      "| | | | |  XD  =  1  :  160\n",
      "| | | | | |  XG  =  0  :  0 161\n",
      "| | | | | |  XG  =  1  :  1 162\n",
      "| | | |  XL  =  1  :  158\n",
      "| | | | |  XH  =  0  :  163\n",
      "| | | | | |  XD  =  0  :  165\n",
      "| | | | | | |  XQ  =  0  :  0 167\n",
      "| | | | | | |  XQ  =  1  :  168\n",
      "| | | | | | | |  XG  =  0  :  0 169\n",
      "| | | | | | | |  XG  =  1  :  1 170\n",
      "| | | | | |  XD  =  1  :  166\n",
      "| | | | | | |  XG  =  0  :  1 171\n",
      "| | | | | | |  XG  =  1  :  0 172\n",
      "| | | | |  XH  =  1  :  0 164\n"
     ]
    }
   ],
   "source": [
    "for node in nodes:\n",
    "    if node.parameter != 'Root':\n",
    "        if node.output == []:\n",
    "            print('| '*(node.parents-2),node.parameter, ' = ', node.decision, ' : ', node.index)\n",
    "        else:\n",
    "            print('| '*(node.parents-2),node.parameter, ' = ', node.decision, ' : ', str(node.output).strip('[]'), node.index)"
   ]
  },
  {
   "cell_type": "code",
   "execution_count": 143,
   "metadata": {
    "collapsed": false
   },
   "outputs": [],
   "source": [
    "#predictions = {}\n",
    "#nodeNum = 1\n",
    "#rowNum = 1\n",
    "#\n",
    "#def testNode(nodeIn, rowIn):\n",
    "#    global nodeNum\n",
    "#    global rowNum\n",
    "#    if rowIn[nodeIn.parameter][rowNum-1] == nodeIn.decision:\n",
    "#        if nodeIn.output != []:\n",
    "#            predictions[rowNum-1] = nodeIn.output\n",
    "#            rowNum = rowNum+1\n",
    "#            nodeNum = 1\n",
    "#        else:\n",
    "#            nodeNum = nodeNum+1\n",
    "#    else:\n",
    "#        for i,j in enumerate(nodes):\n",
    "#            if j.index == nodeIn.index+1:\n",
    "#               nodeNum = i\n",
    "#        \n",
    "#\n",
    "#while rowNum < 50:\n",
    "#    testNode(nodes[nodeNum],testdata[rowNum-1:rowNum])"
   ]
  },
  {
   "cell_type": "code",
   "execution_count": 144,
   "metadata": {
    "collapsed": false
   },
   "outputs": [],
   "source": [
    "def findPrediction(rowIn):\n",
    "    nodeNum = 1\n",
    "    foundIt = False\n",
    "    while foundIt == False:\n",
    "        if nodes[nodeNum].output == []:\n",
    "            if rowIn[nodes[nodeNum].parameter][rowNum-1] == nodes[nodeNum].decision:\n",
    "                nodeNum+=1\n",
    "            else:\n",
    "                for i,j in enumerate(nodes):\n",
    "                    if j.index == nodes[nodeNum].index+1:\n",
    "                        nodeNum = i\n",
    "        else:\n",
    "            if rowIn[nodes[nodeNum].parameter][rowNum-1] == nodes[nodeNum].decision:\n",
    "                foundIt = True\n",
    "            else:\n",
    "                nodeNum+=1\n",
    "    return nodes[nodeNum].output"
   ]
  },
  {
   "cell_type": "code",
   "execution_count": 145,
   "metadata": {
    "collapsed": false
   },
   "outputs": [
    {
     "name": "stdout",
     "output_type": "stream",
     "text": [
      "Training Accuracy:  0.945\n",
      "Test Accuracy:  0.779\n"
     ]
    }
   ],
   "source": [
    "predictions = {}\n",
    "rowNum = 1\n",
    "\n",
    "while rowNum <= len(data):\n",
    "    predictions[rowNum-1] = findPrediction(data[rowNum-1:rowNum])\n",
    "    rowNum+=1\n",
    "\n",
    "testpredictions = {}\n",
    "rowNum = 1\n",
    "\n",
    "while rowNum <= len(testdata):\n",
    "    testpredictions[rowNum-1] = findPrediction(testdata[rowNum-1:rowNum])\n",
    "    rowNum+=1\n",
    "    \n",
    "\n",
    "def getAccuracy(dataSet, preds):\n",
    "    error = 0\n",
    "    preds, dataSet[dataSet.columns[-1]]\n",
    "    for i in range(0,len(preds)-1):\n",
    "        if preds[i] != dataSet[dataSet.columns[-1]][i]:\n",
    "            error+=1\n",
    "    return 1-(error/len(preds))\n",
    "\n",
    "print('Training Accuracy: ', getAccuracy(data,predictions))\n",
    "print('Test Accuracy: ', getAccuracy(testdata,testpredictions))"
   ]
  },
  {
   "cell_type": "code",
   "execution_count": 125,
   "metadata": {
    "collapsed": false
   },
   "outputs": [
    {
     "data": {
      "text/plain": [
       "[0]"
      ]
     },
     "execution_count": 125,
     "metadata": {},
     "output_type": "execute_result"
    }
   ],
   "source": [
    "rowNum = 138\n",
    "nodeF = findPrediction(data[137:138])\n",
    "nodeF"
   ]
  },
  {
   "cell_type": "code",
   "execution_count": null,
   "metadata": {
    "collapsed": false
   },
   "outputs": [],
   "source": []
  },
  {
   "cell_type": "code",
   "execution_count": 76,
   "metadata": {
    "collapsed": false
   },
   "outputs": [],
   "source": [
    "tennis = pd.read_csv('tennis.csv')"
   ]
  },
  {
   "cell_type": "code",
   "execution_count": 80,
   "metadata": {
    "collapsed": false
   },
   "outputs": [
    {
     "ename": "ValueError",
     "evalue": "labels ['Day'] not contained in axis",
     "output_type": "error",
     "traceback": [
      "\u001b[0;31m---------------------------------------------------------------------------\u001b[0m",
      "\u001b[0;31mValueError\u001b[0m                                Traceback (most recent call last)",
      "\u001b[0;32m<ipython-input-80-0d71f7a17d36>\u001b[0m in \u001b[0;36m<module>\u001b[0;34m()\u001b[0m\n\u001b[0;32m----> 1\u001b[0;31m \u001b[0mtennis\u001b[0m \u001b[0;34m=\u001b[0m \u001b[0mtennis\u001b[0m\u001b[0;34m.\u001b[0m\u001b[0mdrop\u001b[0m\u001b[0;34m(\u001b[0m\u001b[0;34m[\u001b[0m\u001b[0;34m'Day'\u001b[0m\u001b[0;34m]\u001b[0m\u001b[0;34m,\u001b[0m\u001b[0;36m1\u001b[0m\u001b[0;34m)\u001b[0m\u001b[0;34m\u001b[0m\u001b[0m\n\u001b[0m\u001b[1;32m      2\u001b[0m \u001b[0mtennis\u001b[0m\u001b[0;34m\u001b[0m\u001b[0m\n",
      "\u001b[0;32m/usr/local/lib/python3.5/site-packages/pandas/core/generic.py\u001b[0m in \u001b[0;36mdrop\u001b[0;34m(self, labels, axis, level, inplace, errors)\u001b[0m\n\u001b[1;32m   1615\u001b[0m                 \u001b[0mnew_axis\u001b[0m \u001b[0;34m=\u001b[0m \u001b[0maxis\u001b[0m\u001b[0;34m.\u001b[0m\u001b[0mdrop\u001b[0m\u001b[0;34m(\u001b[0m\u001b[0mlabels\u001b[0m\u001b[0;34m,\u001b[0m \u001b[0mlevel\u001b[0m\u001b[0;34m=\u001b[0m\u001b[0mlevel\u001b[0m\u001b[0;34m,\u001b[0m \u001b[0merrors\u001b[0m\u001b[0;34m=\u001b[0m\u001b[0merrors\u001b[0m\u001b[0;34m)\u001b[0m\u001b[0;34m\u001b[0m\u001b[0m\n\u001b[1;32m   1616\u001b[0m             \u001b[0;32melse\u001b[0m\u001b[0;34m:\u001b[0m\u001b[0;34m\u001b[0m\u001b[0m\n\u001b[0;32m-> 1617\u001b[0;31m                 \u001b[0mnew_axis\u001b[0m \u001b[0;34m=\u001b[0m \u001b[0maxis\u001b[0m\u001b[0;34m.\u001b[0m\u001b[0mdrop\u001b[0m\u001b[0;34m(\u001b[0m\u001b[0mlabels\u001b[0m\u001b[0;34m,\u001b[0m \u001b[0merrors\u001b[0m\u001b[0;34m=\u001b[0m\u001b[0merrors\u001b[0m\u001b[0;34m)\u001b[0m\u001b[0;34m\u001b[0m\u001b[0m\n\u001b[0m\u001b[1;32m   1618\u001b[0m             \u001b[0mdropped\u001b[0m \u001b[0;34m=\u001b[0m \u001b[0mself\u001b[0m\u001b[0;34m.\u001b[0m\u001b[0mreindex\u001b[0m\u001b[0;34m(\u001b[0m\u001b[0;34m**\u001b[0m\u001b[0;34m{\u001b[0m\u001b[0maxis_name\u001b[0m\u001b[0;34m:\u001b[0m \u001b[0mnew_axis\u001b[0m\u001b[0;34m}\u001b[0m\u001b[0;34m)\u001b[0m\u001b[0;34m\u001b[0m\u001b[0m\n\u001b[1;32m   1619\u001b[0m             \u001b[0;32mtry\u001b[0m\u001b[0;34m:\u001b[0m\u001b[0;34m\u001b[0m\u001b[0m\n",
      "\u001b[0;32m/usr/local/lib/python3.5/site-packages/pandas/core/index.py\u001b[0m in \u001b[0;36mdrop\u001b[0;34m(self, labels, errors)\u001b[0m\n\u001b[1;32m   2801\u001b[0m         \u001b[0;32mif\u001b[0m \u001b[0mmask\u001b[0m\u001b[0;34m.\u001b[0m\u001b[0many\u001b[0m\u001b[0;34m(\u001b[0m\u001b[0;34m)\u001b[0m\u001b[0;34m:\u001b[0m\u001b[0;34m\u001b[0m\u001b[0m\n\u001b[1;32m   2802\u001b[0m             \u001b[0;32mif\u001b[0m \u001b[0merrors\u001b[0m \u001b[0;34m!=\u001b[0m \u001b[0;34m'ignore'\u001b[0m\u001b[0;34m:\u001b[0m\u001b[0;34m\u001b[0m\u001b[0m\n\u001b[0;32m-> 2803\u001b[0;31m                 \u001b[0;32mraise\u001b[0m \u001b[0mValueError\u001b[0m\u001b[0;34m(\u001b[0m\u001b[0;34m'labels %s not contained in axis'\u001b[0m \u001b[0;34m%\u001b[0m \u001b[0mlabels\u001b[0m\u001b[0;34m[\u001b[0m\u001b[0mmask\u001b[0m\u001b[0;34m]\u001b[0m\u001b[0;34m)\u001b[0m\u001b[0;34m\u001b[0m\u001b[0m\n\u001b[0m\u001b[1;32m   2804\u001b[0m             \u001b[0mindexer\u001b[0m \u001b[0;34m=\u001b[0m \u001b[0mindexer\u001b[0m\u001b[0;34m[\u001b[0m\u001b[0;34m~\u001b[0m\u001b[0mmask\u001b[0m\u001b[0;34m]\u001b[0m\u001b[0;34m\u001b[0m\u001b[0m\n\u001b[1;32m   2805\u001b[0m         \u001b[0;32mreturn\u001b[0m \u001b[0mself\u001b[0m\u001b[0;34m.\u001b[0m\u001b[0mdelete\u001b[0m\u001b[0;34m(\u001b[0m\u001b[0mindexer\u001b[0m\u001b[0;34m)\u001b[0m\u001b[0;34m\u001b[0m\u001b[0m\n",
      "\u001b[0;31mValueError\u001b[0m: labels ['Day'] not contained in axis"
     ]
    }
   ],
   "source": [
    "tennis = tennis.drop(['Day'],1)\n",
    "tennis"
   ]
  },
  {
   "cell_type": "code",
   "execution_count": 78,
   "metadata": {
    "collapsed": false
   },
   "outputs": [],
   "source": [
    "def uniqueClassesTennis(myData):\n",
    "    results={}\n",
    "    for a in myData.PlayTennis:\n",
    "        if a not in results: \n",
    "            results[a] = 0\n",
    "        results[a]+=1\n",
    "    return results\n",
    "\n",
    "def getTopIGTennis(someData):\n",
    "    IG = {}\n",
    "    for column in someData.ix[:,:-1]:\n",
    "        columnPars = getParameters(tennis,column).keys()\n",
    "        ENT = 0\n",
    "        for par in columnPars:\n",
    "            ENT += (len(someData[someData[column]==par])/len(someData))*entropyTennis(someData[someData[column]==par])\n",
    "        IG[column] = entropyTennis(someData) - ENT\n",
    "    return IG\n",
    "\n",
    "def entropyTennis(rows):\n",
    "    from math import log\n",
    "    log2=lambda x:log(x)/log(2)  \n",
    "    results=uniqueClassesTennis(rows)\n",
    "    ent=0.0\n",
    "    for r in results.keys():\n",
    "        p=float(results[r])/len(rows) \n",
    "        ent=ent-p*log2(p)\n",
    "    return ent\n",
    "\n",
    "def getParameters(mydata, column):\n",
    "    results={}\n",
    "    for a in mydata[column]:\n",
    "        if a not in results: \n",
    "            results[a] = 0\n",
    "        results[a]+=1\n",
    "    return results"
   ]
  },
  {
   "cell_type": "code",
   "execution_count": 81,
   "metadata": {
    "collapsed": false
   },
   "outputs": [
    {
     "data": {
      "text/html": [
       "<div>\n",
       "<table border=\"1\" class=\"dataframe\">\n",
       "  <thead>\n",
       "    <tr style=\"text-align: right;\">\n",
       "      <th></th>\n",
       "      <th>Outlook</th>\n",
       "      <th>Temperature</th>\n",
       "      <th>Humidity</th>\n",
       "      <th>Wind</th>\n",
       "      <th>PlayTennis</th>\n",
       "    </tr>\n",
       "  </thead>\n",
       "  <tbody>\n",
       "    <tr>\n",
       "      <th>0</th>\n",
       "      <td>Sunny</td>\n",
       "      <td>Hot</td>\n",
       "      <td>High</td>\n",
       "      <td>Weak</td>\n",
       "      <td>No</td>\n",
       "    </tr>\n",
       "    <tr>\n",
       "      <th>1</th>\n",
       "      <td>Sunny</td>\n",
       "      <td>Hot</td>\n",
       "      <td>High</td>\n",
       "      <td>Strong</td>\n",
       "      <td>No</td>\n",
       "    </tr>\n",
       "    <tr>\n",
       "      <th>2</th>\n",
       "      <td>Overcast</td>\n",
       "      <td>Hot</td>\n",
       "      <td>High</td>\n",
       "      <td>Weak</td>\n",
       "      <td>Yes</td>\n",
       "    </tr>\n",
       "    <tr>\n",
       "      <th>3</th>\n",
       "      <td>Rain</td>\n",
       "      <td>Mild</td>\n",
       "      <td>High</td>\n",
       "      <td>Weak</td>\n",
       "      <td>Yes</td>\n",
       "    </tr>\n",
       "    <tr>\n",
       "      <th>4</th>\n",
       "      <td>Rain</td>\n",
       "      <td>Cool</td>\n",
       "      <td>Normal</td>\n",
       "      <td>Weak</td>\n",
       "      <td>Yes</td>\n",
       "    </tr>\n",
       "    <tr>\n",
       "      <th>5</th>\n",
       "      <td>Rain</td>\n",
       "      <td>Cool</td>\n",
       "      <td>Normal</td>\n",
       "      <td>Strong</td>\n",
       "      <td>No</td>\n",
       "    </tr>\n",
       "    <tr>\n",
       "      <th>6</th>\n",
       "      <td>Overcast</td>\n",
       "      <td>Cool</td>\n",
       "      <td>Normal</td>\n",
       "      <td>Strong</td>\n",
       "      <td>Yes</td>\n",
       "    </tr>\n",
       "    <tr>\n",
       "      <th>7</th>\n",
       "      <td>Sunny</td>\n",
       "      <td>Mild</td>\n",
       "      <td>High</td>\n",
       "      <td>Weak</td>\n",
       "      <td>No</td>\n",
       "    </tr>\n",
       "    <tr>\n",
       "      <th>8</th>\n",
       "      <td>Sunny</td>\n",
       "      <td>Cool</td>\n",
       "      <td>Normal</td>\n",
       "      <td>Weak</td>\n",
       "      <td>Yes</td>\n",
       "    </tr>\n",
       "    <tr>\n",
       "      <th>9</th>\n",
       "      <td>Rain</td>\n",
       "      <td>Mild</td>\n",
       "      <td>Normal</td>\n",
       "      <td>Weak</td>\n",
       "      <td>Yes</td>\n",
       "    </tr>\n",
       "    <tr>\n",
       "      <th>10</th>\n",
       "      <td>Sunny</td>\n",
       "      <td>Mild</td>\n",
       "      <td>Normal</td>\n",
       "      <td>Strong</td>\n",
       "      <td>Yes</td>\n",
       "    </tr>\n",
       "    <tr>\n",
       "      <th>11</th>\n",
       "      <td>Overcast</td>\n",
       "      <td>Mild</td>\n",
       "      <td>High</td>\n",
       "      <td>Strong</td>\n",
       "      <td>Yes</td>\n",
       "    </tr>\n",
       "    <tr>\n",
       "      <th>12</th>\n",
       "      <td>Overcast</td>\n",
       "      <td>Mild</td>\n",
       "      <td>High</td>\n",
       "      <td>Strong</td>\n",
       "      <td>Yes</td>\n",
       "    </tr>\n",
       "    <tr>\n",
       "      <th>13</th>\n",
       "      <td>Overcast</td>\n",
       "      <td>Hot</td>\n",
       "      <td>Normal</td>\n",
       "      <td>Weak</td>\n",
       "      <td>Yes</td>\n",
       "    </tr>\n",
       "    <tr>\n",
       "      <th>14</th>\n",
       "      <td>Rain</td>\n",
       "      <td>Mild</td>\n",
       "      <td>High</td>\n",
       "      <td>Strong</td>\n",
       "      <td>No</td>\n",
       "    </tr>\n",
       "  </tbody>\n",
       "</table>\n",
       "</div>"
      ],
      "text/plain": [
       "     Outlook Temperature Humidity    Wind PlayTennis\n",
       "0      Sunny         Hot     High    Weak         No\n",
       "1      Sunny         Hot     High  Strong         No\n",
       "2   Overcast         Hot     High    Weak        Yes\n",
       "3       Rain        Mild     High    Weak        Yes\n",
       "4       Rain        Cool   Normal    Weak        Yes\n",
       "5       Rain        Cool   Normal  Strong         No\n",
       "6   Overcast        Cool   Normal  Strong        Yes\n",
       "7      Sunny        Mild     High    Weak         No\n",
       "8      Sunny        Cool   Normal    Weak        Yes\n",
       "9       Rain        Mild   Normal    Weak        Yes\n",
       "10     Sunny        Mild   Normal  Strong        Yes\n",
       "11  Overcast        Mild     High  Strong        Yes\n",
       "12  Overcast        Mild     High  Strong        Yes\n",
       "13  Overcast         Hot   Normal    Weak        Yes\n",
       "14      Rain        Mild     High  Strong         No"
      ]
     },
     "execution_count": 81,
     "metadata": {},
     "output_type": "execute_result"
    }
   ],
   "source": [
    "tennis"
   ]
  },
  {
   "cell_type": "code",
   "execution_count": null,
   "metadata": {
    "collapsed": false
   },
   "outputs": [],
   "source": []
  },
  {
   "cell_type": "code",
   "execution_count": 79,
   "metadata": {
    "collapsed": false
   },
   "outputs": [
    {
     "data": {
      "text/plain": [
       "{'Humidity': 0.10884853738273681,\n",
       " 'Outlook': 0.27099543775137724,\n",
       " 'Temperature': 0.032498735534292944,\n",
       " 'Wind': 0.02584103752696798}"
      ]
     },
     "execution_count": 79,
     "metadata": {},
     "output_type": "execute_result"
    }
   ],
   "source": [
    "getTopIGTennis(tennis)"
   ]
  },
  {
   "cell_type": "code",
   "execution_count": 83,
   "metadata": {
    "collapsed": false
   },
   "outputs": [],
   "source": [
    "childData0 = tennis[tennis['Outlook']=='Sunny']\n",
    "childData1 = tennis[tennis['Outlook']=='Overcast']\n",
    "childData2 = tennis[tennis['Outlook']=='Rain']"
   ]
  },
  {
   "cell_type": "code",
   "execution_count": 85,
   "metadata": {
    "collapsed": false
   },
   "outputs": [
    {
     "data": {
      "text/plain": [
       "{'Humidity': 0.9709505944546686,\n",
       " 'Outlook': 0.0,\n",
       " 'Temperature': 0.5709505944546686,\n",
       " 'Wind': 0.01997309402197489}"
      ]
     },
     "execution_count": 85,
     "metadata": {},
     "output_type": "execute_result"
    }
   ],
   "source": [
    "getTopIGTennis(childData0)"
   ]
  },
  {
   "cell_type": "code",
   "execution_count": 86,
   "metadata": {
    "collapsed": false
   },
   "outputs": [
    {
     "data": {
      "text/plain": [
       "{'Humidity': 0.0, 'Outlook': 0.0, 'Temperature': 0.0, 'Wind': 0.0}"
      ]
     },
     "execution_count": 86,
     "metadata": {},
     "output_type": "execute_result"
    }
   ],
   "source": [
    "getTopIGTennis(childData1)"
   ]
  },
  {
   "cell_type": "code",
   "execution_count": 87,
   "metadata": {
    "collapsed": false
   },
   "outputs": [
    {
     "data": {
      "text/plain": [
       "{'Humidity': 0.01997309402197489,\n",
       " 'Outlook': 0.0,\n",
       " 'Temperature': 0.01997309402197489,\n",
       " 'Wind': 0.9709505944546686}"
      ]
     },
     "execution_count": 87,
     "metadata": {},
     "output_type": "execute_result"
    }
   ],
   "source": [
    "getTopIGTennis(childData2)"
   ]
  },
  {
   "cell_type": "code",
   "execution_count": 90,
   "metadata": {
    "collapsed": false
   },
   "outputs": [
    {
     "data": {
      "text/html": [
       "<div>\n",
       "<table border=\"1\" class=\"dataframe\">\n",
       "  <thead>\n",
       "    <tr style=\"text-align: right;\">\n",
       "      <th></th>\n",
       "      <th>Outlook</th>\n",
       "      <th>Temperature</th>\n",
       "      <th>Humidity</th>\n",
       "      <th>Wind</th>\n",
       "      <th>PlayTennis</th>\n",
       "    </tr>\n",
       "  </thead>\n",
       "  <tbody>\n",
       "    <tr>\n",
       "      <th>3</th>\n",
       "      <td>Rain</td>\n",
       "      <td>Mild</td>\n",
       "      <td>High</td>\n",
       "      <td>Weak</td>\n",
       "      <td>Yes</td>\n",
       "    </tr>\n",
       "    <tr>\n",
       "      <th>4</th>\n",
       "      <td>Rain</td>\n",
       "      <td>Cool</td>\n",
       "      <td>Normal</td>\n",
       "      <td>Weak</td>\n",
       "      <td>Yes</td>\n",
       "    </tr>\n",
       "    <tr>\n",
       "      <th>5</th>\n",
       "      <td>Rain</td>\n",
       "      <td>Cool</td>\n",
       "      <td>Normal</td>\n",
       "      <td>Strong</td>\n",
       "      <td>No</td>\n",
       "    </tr>\n",
       "    <tr>\n",
       "      <th>9</th>\n",
       "      <td>Rain</td>\n",
       "      <td>Mild</td>\n",
       "      <td>Normal</td>\n",
       "      <td>Weak</td>\n",
       "      <td>Yes</td>\n",
       "    </tr>\n",
       "    <tr>\n",
       "      <th>14</th>\n",
       "      <td>Rain</td>\n",
       "      <td>Mild</td>\n",
       "      <td>High</td>\n",
       "      <td>Strong</td>\n",
       "      <td>No</td>\n",
       "    </tr>\n",
       "  </tbody>\n",
       "</table>\n",
       "</div>"
      ],
      "text/plain": [
       "   Outlook Temperature Humidity    Wind PlayTennis\n",
       "3     Rain        Mild     High    Weak        Yes\n",
       "4     Rain        Cool   Normal    Weak        Yes\n",
       "5     Rain        Cool   Normal  Strong         No\n",
       "9     Rain        Mild   Normal    Weak        Yes\n",
       "14    Rain        Mild     High  Strong         No"
      ]
     },
     "execution_count": 90,
     "metadata": {},
     "output_type": "execute_result"
    }
   ],
   "source": [
    "childData2"
   ]
  },
  {
   "cell_type": "code",
   "execution_count": null,
   "metadata": {
    "collapsed": true
   },
   "outputs": [],
   "source": []
  }
 ],
 "metadata": {
  "kernelspec": {
   "display_name": "Python 3",
   "language": "python",
   "name": "python3"
  },
  "language_info": {
   "codemirror_mode": {
    "name": "ipython",
    "version": 3
   },
   "file_extension": ".py",
   "mimetype": "text/x-python",
   "name": "python",
   "nbconvert_exporter": "python",
   "pygments_lexer": "ipython3",
   "version": "3.5.1"
  }
 },
 "nbformat": 4,
 "nbformat_minor": 0
}
